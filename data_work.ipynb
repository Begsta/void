{
 "cells": [
  {
   "cell_type": "code",
   "execution_count": 5,
   "metadata": {},
   "outputs": [
    {
     "name": "stdout",
     "output_type": "stream",
     "text": [
      "['Blink Dagger!', 'Force Staff!', 'Heart of Tarrasque!', 'Hood of Defiance!', 'Pipe of Insight!', 'Pudge заждался !', 'Pudge тебя приголубит!', \"Shiva's Guard!\", 'Urn of Shadows!', 'Vanguard!', 'А Агаю', 'А вот и нет.', 'А ну быстро сюда!', 'А-а-а, свежее мясо!', 'А-а-а', 'Ага, иду.', 'Ага', 'Ах ты мелкий...', 'Бессмертие!', 'Будешь красоткой с яблоком во рту!', 'Будто одного меня было мало.', 'В кучу!', 'В самом расцвете сил.', 'Вдохни поглубже!', 'Вот и за мной пришли.', 'Враг ушел с верхней линии!', 'Враг ушел с нижней линии!', 'Враг ушел с центральной линии!', 'Время нарезать!', 'Всё в кишках, красота!', 'Вы поглядите, сколько сочного мяса вокруг!', 'Выпотрошить!', 'Давай к делу!', 'Давно пора!', 'Дай освежую... я быстро!', 'Дай подправлю тебе фигуру!', 'Двойной урон!', 'Дело в шляпе!!', 'Дело в шляпе!', 'Дышите глубже, ребята!', 'Жадина-говядина, я такой.', 'Иллюзия!', 'Какой симпатичный фарш!', 'Ко мне-е-е-е!', 'Кому свежих рёбрышек.', 'Кто ребро потерял. Моё будет.', 'Люблю внезапность не приходится чистить кишки вручную.', 'Люблю сокращать чужие калории.', 'М-м, вот это я понимаю - свежий воздух!', 'М-м-ах-м-м', 'М-м-ах-м', 'М-м-м, свежее мясо!', 'М-м-м, устрой лёгким праздник!', 'М-м-м-м', 'М-м', 'Мешки плоти.', 'Милый запах, чё', 'Моё!', 'Мэ-э-э.', 'На верную смерть - это ко мне!', 'На кого замахиваешься!', 'На кусочки!', 'Не пропадать же добру.', 'Не стану тратить всё и сразу.', 'Не твое!', 'Не тут-то было!', 'Не устоял!', 'Не-а!', 'Не-е-ет!', 'Не-е-ет.', 'Невидимость!', 'О, свежее мясо!', 'од топор-р-р!', 'Ой!', 'Ой-ой-ой.', 'Ой... это я что ли', 'Освежую, шмакодявка.', 'Отличная заточка.', 'Отложу, авось пригодится.', 'Паршивый волшебник!!', 'Паршивый волшебник!', 'Первая кровь! У меня ничего в зубах не застряло', 'Перед смертью не надышишься.', 'Подам тебя с криповым соусом!', 'Познакомимся поближе.', 'Поймал!', 'Получай!', 'Порежьте меня на кусочки, я бы сделал для вас то же самое.', 'Последний кусок - мне.', 'Припасу на потом.', 'Пшёл с дороги!', 'Р-р-расчехляю ножи!', 'Резать, рубить!', 'Рублю с двойным усердием!', 'Руки в крови - это про меня.', 'Самое время!', 'Свежее мясо!!!', 'Свежее мясо!!', 'Свежее мясо!', 'Свежее мясо.', 'Свежее мясо', 'Скоростная мясорубка!', 'Слезь!', 'Сожру с потрохами!', 'сожру', 'Солнце уходит на запад, а я остаюсь!', 'Спасёт от передряги.', 'Сюда, быстро!', 'Так пир или... чума!', 'Так тебе и надо!', 'Тип того', 'Туда так туда', 'Тушку мне!', 'Ты ничего не почувствуешь!', 'Ты сегодня без ужина!', 'Тэ-э.', 'У меня уже топор чешется!', 'Ускорение!', 'Ха-а-а! Свежее мясо!', 'Ха-а', 'Ха-ха! Свежее мясо!', 'Ха-ха, бессмертие!', 'Ха', 'Хе-хе хе', 'Хе-хе-хе-хе-хе-хе-хе, свежее мясо!!', 'Хе-хе-хе-хе-хе-хе-хе, свежее мясо!', 'Хе-хе-хе-хе. Свежее мясо.', 'Хе-хе-хе-хе. Свежее мясо', 'Хе-хе-хе-хе', 'Хм-м, попробуй жизнь на вкус!', 'Хорошая заточка.', 'Хы-хы-ха-ха, ты погляди, свежее мясо!', 'Хы-хы-хы-хы, свежее мясо!', 'Хы-хы-хы-хы, у тебя рёбра отвалились!', 'Хэх, хе-хе-хе-хе-хе, не твоё!', 'Чёрт, давно пора!', 'Чёрта... с два.', 'Чёрта... с два', 'Чёртовы крипы.', 'Что протухло', 'Что-то я... проголодался.', 'Э-э-э.', 'Э-э.', 'Эй!', 'Эй, ты.', 'Эй', 'Это кто зашел на ужин', 'Эх.', 'Я ж ещё... не дорезал.', 'Я специально, честно...', 'Я что-то не то съел']\n"
     ]
    }
   ],
   "source": [
    "import os\n",
    "\n",
    "# Absolute path of a file\n",
    "\n",
    "\"\"\"for name in os.listdir('./audio'):\n",
    "    old_name = r\"C://Users/MateBook/Documents/pyt/void/audio/\"+name\n",
    "    new_name = old_name.replace('.mp3.mpeg', '.wav')\n",
    "    os.rename(old_name, new_name)\"\"\"\n",
    "\n",
    "texts = []\n",
    "\n",
    "for name in os.listdir('./audio'):\n",
    "    name = name.replace('.wav', '')\n",
    "    texts.append(name)\n",
    "\n",
    "print(texts)\n",
    "# Renaming the file\n",
    "#os.rename(old_name, new_name)"
   ]
  },
  {
   "cell_type": "code",
   "execution_count": 2,
   "metadata": {},
   "outputs": [],
   "source": [
    "import librosa\n",
    "import numpy as np\n",
    "import os\n",
    "path = './audio/'\n",
    "path_for_data = './numpy_data/'\n",
    "for name in os.listdir(path):\n",
    "    relative_path = path+name\n",
    "    # Load audio file\n",
    "    audio, sr = librosa.load(relative_path, sr=22050)\n",
    "\n",
    "    # Compute mel-spectrogram\n",
    "    mel_spec = librosa.feature.melspectrogram(y=audio, sr=sr, n_fft=1024, hop_length=256, n_mels=80)\n",
    "\n",
    "    # Convert to decibel scale\n",
    "    mel_spec_db = librosa.power_to_db(mel_spec, ref=np.max)\n",
    "\n",
    "    # Save as numpy array\n",
    "    np.save(path_for_data+name.replace('.wav', '.npy'), mel_spec_db)"
   ]
  },
  {
   "cell_type": "code",
   "execution_count": 4,
   "metadata": {},
   "outputs": [
    {
     "name": "stdout",
     "output_type": "stream",
     "text": [
      "Collecting librosa\n",
      "  Using cached librosa-0.10.0.post2-py3-none-any.whl (253 kB)\n",
      "Collecting audioread>=2.1.9\n",
      "  Using cached audioread-3.0.0.tar.gz (377 kB)\n",
      "  Preparing metadata (setup.py): started\n",
      "  Preparing metadata (setup.py): finished with status 'done'\n",
      "Collecting numpy!=1.22.0,!=1.22.1,!=1.22.2,>=1.20.3\n",
      "  Downloading numpy-1.24.3-cp311-cp311-win_amd64.whl (14.8 MB)\n",
      "     ---------------------------------------- 14.8/14.8 MB 4.5 MB/s eta 0:00:00\n",
      "Collecting scipy>=1.2.0\n",
      "  Using cached scipy-1.10.1-cp311-cp311-win_amd64.whl (42.2 MB)\n",
      "Collecting scikit-learn>=0.20.0\n",
      "  Using cached scikit_learn-1.2.2-cp311-cp311-win_amd64.whl (8.3 MB)\n",
      "Collecting joblib>=0.14\n",
      "  Using cached joblib-1.2.0-py3-none-any.whl (297 kB)\n",
      "Requirement already satisfied: decorator>=4.3.0 in c:\\users\\matebook\\documents\\pyt\\.conda\\lib\\site-packages (from librosa) (5.1.1)\n",
      "Collecting numba>=0.51.0\n",
      "  Downloading numba-0.57.0-cp311-cp311-win_amd64.whl (2.6 MB)\n",
      "     ---------------------------------------- 2.6/2.6 MB 3.5 MB/s eta 0:00:00\n",
      "Collecting soundfile>=0.12.1\n",
      "  Using cached soundfile-0.12.1-py2.py3-none-win_amd64.whl (1.0 MB)\n",
      "Collecting pooch<1.7,>=1.0\n",
      "  Using cached pooch-1.6.0-py3-none-any.whl (56 kB)\n",
      "Collecting soxr>=0.3.2\n",
      "  Downloading soxr-0.3.5-cp311-cp311-win_amd64.whl (184 kB)\n",
      "     ------------------------------------- 184.5/184.5 kB 11.6 MB/s eta 0:00:00\n",
      "Requirement already satisfied: typing-extensions>=4.1.1 in c:\\users\\matebook\\documents\\pyt\\.conda\\lib\\site-packages (from librosa) (4.5.0)\n",
      "Collecting lazy-loader>=0.1\n",
      "  Using cached lazy_loader-0.2-py3-none-any.whl (8.6 kB)\n",
      "Collecting msgpack>=1.0\n",
      "  Downloading msgpack-1.0.5-cp311-cp311-win_amd64.whl (60 kB)\n",
      "     ---------------------------------------- 60.8/60.8 kB 3.2 MB/s eta 0:00:00\n",
      "Collecting llvmlite<0.41,>=0.40.0dev0\n",
      "  Downloading llvmlite-0.40.0-cp311-cp311-win_amd64.whl (27.7 MB)\n",
      "     -------------------------------------- 27.7/27.7 MB 774.2 kB/s eta 0:00:00\n",
      "Collecting appdirs>=1.3.0\n",
      "  Downloading appdirs-1.4.4-py2.py3-none-any.whl (9.6 kB)\n",
      "Requirement already satisfied: packaging>=20.0 in c:\\users\\matebook\\documents\\pyt\\.conda\\lib\\site-packages (from pooch<1.7,>=1.0->librosa) (23.1)\n",
      "Requirement already satisfied: requests>=2.19.0 in c:\\users\\matebook\\documents\\pyt\\.conda\\lib\\site-packages (from pooch<1.7,>=1.0->librosa) (2.30.0)\n",
      "Collecting threadpoolctl>=2.0.0\n",
      "  Using cached threadpoolctl-3.1.0-py3-none-any.whl (14 kB)\n",
      "Collecting cffi>=1.0\n",
      "  Using cached cffi-1.15.1-cp311-cp311-win_amd64.whl (179 kB)\n",
      "Requirement already satisfied: pycparser in c:\\users\\matebook\\documents\\pyt\\.conda\\lib\\site-packages (from cffi>=1.0->soundfile>=0.12.1->librosa) (2.21)\n",
      "Requirement already satisfied: charset-normalizer<4,>=2 in c:\\users\\matebook\\documents\\pyt\\.conda\\lib\\site-packages (from requests>=2.19.0->pooch<1.7,>=1.0->librosa) (3.1.0)\n",
      "Requirement already satisfied: idna<4,>=2.5 in c:\\users\\matebook\\documents\\pyt\\.conda\\lib\\site-packages (from requests>=2.19.0->pooch<1.7,>=1.0->librosa) (3.4)\n",
      "Requirement already satisfied: urllib3<3,>=1.21.1 in c:\\users\\matebook\\documents\\pyt\\.conda\\lib\\site-packages (from requests>=2.19.0->pooch<1.7,>=1.0->librosa) (1.26.15)\n",
      "Requirement already satisfied: certifi>=2017.4.17 in c:\\users\\matebook\\documents\\pyt\\.conda\\lib\\site-packages (from requests>=2.19.0->pooch<1.7,>=1.0->librosa) (2023.5.7)\n",
      "Building wheels for collected packages: audioread\n",
      "  Building wheel for audioread (setup.py): started\n",
      "  Building wheel for audioread (setup.py): finished with status 'done'\n",
      "  Created wheel for audioread: filename=audioread-3.0.0-py3-none-any.whl size=23736 sha256=54e4145e6a7b6909ab5bed3b4234bfd124130a59163d381776a4e938d0e0c716\n",
      "  Stored in directory: c:\\users\\matebook\\appdata\\local\\pip\\cache\\wheels\\34\\6d\\02\\40eff8045c8287806e7d83333301c1c7bab6109045424e8558\n",
      "Successfully built audioread\n",
      "Installing collected packages: msgpack, appdirs, threadpoolctl, numpy, llvmlite, lazy-loader, joblib, cffi, audioread, soxr, soundfile, scipy, pooch, numba, scikit-learn, librosa\n",
      "Successfully installed appdirs-1.4.4 audioread-3.0.0 cffi-1.15.1 joblib-1.2.0 lazy-loader-0.2 librosa-0.10.0.post2 llvmlite-0.40.0 msgpack-1.0.5 numba-0.57.0 numpy-1.24.3 pooch-1.6.0 scikit-learn-1.2.2 scipy-1.10.1 soundfile-0.12.1 soxr-0.3.5 threadpoolctl-3.1.0\n",
      "Note: you may need to restart the kernel to use updated packages.\n"
     ]
    }
   ],
   "source": [
    "pip install librosa"
   ]
  },
  {
   "cell_type": "code",
   "execution_count": null,
   "metadata": {},
   "outputs": [],
   "source": []
  }
 ],
 "metadata": {
  "kernelspec": {
   "display_name": "audio",
   "language": "python",
   "name": "python3"
  },
  "language_info": {
   "codemirror_mode": {
    "name": "ipython",
    "version": 3
   },
   "file_extension": ".py",
   "mimetype": "text/x-python",
   "name": "python",
   "nbconvert_exporter": "python",
   "pygments_lexer": "ipython3",
   "version": "3.11.3"
  },
  "orig_nbformat": 4
 },
 "nbformat": 4,
 "nbformat_minor": 2
}
