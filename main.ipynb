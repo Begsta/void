{
 "cells": [
  {
   "attachments": {},
   "cell_type": "markdown",
   "metadata": {},
   "source": [
    "#### Библиотеки"
   ]
  },
  {
   "cell_type": "code",
   "execution_count": 1,
   "metadata": {},
   "outputs": [],
   "source": [
    "from function_py import texts_to_padded, norm_spectr, spectrogram_to_audio, pd, os, Tokenizer, np, pad_sequences, wavfile, librosa, Sequential, Dense, Reshape  "
   ]
  },
  {
   "attachments": {},
   "cell_type": "markdown",
   "metadata": {},
   "source": [
    "# Загружали дата фрейм с аудио и преобразованием аудио"
   ]
  },
  {
   "cell_type": "code",
   "execution_count": 2,
   "metadata": {},
   "outputs": [
    {
     "data": {
      "text/plain": [
       "audio    сожру.wav\n",
       "numpy         wnpy\n",
       "dtype: object"
      ]
     },
     "execution_count": 2,
     "metadata": {},
     "output_type": "execute_result"
    }
   ],
   "source": [
    "dataframe = pd.DataFrame()\n",
    "\n",
    "path = './audio/'\n",
    "path_for_data = './numpy_data/'\n",
    "\n",
    "\n",
    "\n",
    "for name in sorted(os.listdir(path)):\n",
    "    new_row = {'audio':name[:-4], 'numpy': np.load(f'./numpy_data/{name[:-3]+\"npy\"}')}\n",
    "    dataframe = pd.concat([dataframe, pd.DataFrame([new_row])], ignore_index=True)\n",
    "\n",
    "pd.Series({'audio':name, 'numpy': str(name[-3] + 'npy')})"
   ]
  },
  {
   "attachments": {},
   "cell_type": "markdown",
   "metadata": {},
   "source": [
    "# Преобразовывали предложения в цифры"
   ]
  },
  {
   "cell_type": "code",
   "execution_count": 3,
   "metadata": {},
   "outputs": [
    {
     "name": "stdout",
     "output_type": "stream",
     "text": [
      "Padded Texts:\n",
      " [[  6  66   0 ...   0   0   0]\n",
      " [  6  25  20 ...   0   0   0]\n",
      " [  6  68  26 ...   0   0   0]\n",
      " ...\n",
      " [  8 261 262 ...   0   0   0]\n",
      " [  8 264 265 ...   0   0   0]\n",
      " [  8  23  18 ...   0   0   0]]\n"
     ]
    }
   ],
   "source": [
    "# Sample text data\n",
    "texts = ['А Агаю', 'А вот и нет.', 'А ну быстро сюда!', 'А-а-а, свежее мясо!', 'А-а-а', 'Ага, иду.', 'Ага', 'Ах ты мелкий...', 'Бессмертие!', 'Блинк дагер!', 'Будешь красоткой с яблоком во рту!', 'Будто одного меня было мало.', 'В кучу!', 'В самом расцвете сил.', 'Вангвард!', 'Вдохни поглубже!', 'Вот и за мной пришли.', 'Враг ушел с верхней линии!', 'Враг ушел с нижней линии!', 'Враг ушел с центральной линии!', 'Время нарезать!', 'Всё в кишках, красота!', 'Вы поглядите, сколько сочного мяса вокруг!', 'Выпотрошить!', 'Давай к делу!', 'Давно пора!', 'Дай освежую... я быстро!', 'Дай подправлю тебе фигуру!', 'Двойной урон!', 'Дело в шляпе!!', 'Дело в шляпе!', 'Дышите глубже, ребята!', 'Жадина-говядина, я такой.', 'Иллюзия!', 'Какой симпатичный фарш!', 'Ко мне-е-е-е!', 'Кому свежих рёбрышек.', 'Кто ребро потерял. Моё будет.', 'Люблю внезапность не приходится чистить кишки вручную.', 'Люблю сокращать чужие калории.', 'М-м, вот это я понимаю - свежий воздух!', 'М-м-ах-м-м', 'М-м-ах-м', 'М-м-м, свежее мясо!', 'М-м-м, устрой лёгким праздник!', 'М-м-м-м', 'М-м', 'Мешки плоти.', 'Милый запах, чё', 'Моё!', 'Мэ-э-э.', 'На верную смерть - это ко мне!', 'На кого замахиваешься!', 'На кусочки!', 'Не пропадать же добру.', 'Не стану тратить всё и сразу.', 'Не твое!', 'Не тут-то было!', 'Не устоял!', 'Не-а!', 'Не-е-ет!', 'Не-е-ет.', 'Невидимость!', 'О, свежее мясо!', 'од топор-р-р!', 'Ой!', 'Ой-ой-ой.', 'Ой... это я что ли', 'Освежую, шмакодявка.', 'Отличная заточка.', 'Отложу, авось пригодится.', 'Падж заждался !', 'Падж тебя приголубит!', 'Пайп оф Инсайт!', 'Паршивый волшебник!!', 'Паршивый волшебник!', 'Первая кровь! У меня ничего в зубах не застряло', 'Перед смертью не надышишься.', 'Подам тебя с криповым соусом!', 'Познакомимся поближе.', 'Поймал!', 'Получай!', 'Порежьте меня на кусочки, я бы сделал для вас то же самое.', 'Последний кусок - мне.', 'Припасу на потом.', 'Пшёл с дороги!', 'Р-р-расчехляю ножи!', 'Резать, рубить!', 'Рублю с двойным усердием!', 'Руки в крови - это про меня.', 'Самое время!', 'Свежее мясо!!!', 'Свежее мясо!!', 'Свежее мясо!', 'Свежее мясо.', 'Свежее мясо', 'Скоростная мясорубка!', 'Слезь!', 'Сожру с потрохами!', 'сожру', 'Солнце уходит на запад, а я остаюсь!', 'Спасёт от передряги.', 'Сюда, быстро!', 'Так пир или... чума!', 'Так тебе и надо!', 'Тип того', 'Туда так туда', 'Тушку мне!', 'Ты ничего не почувствуешь!', 'Ты сегодня без ужина!', 'Тэ-э.', 'У меня уже топор чешется!', 'Урн оф Шадоувс!', 'Ускорение!', 'Форс стафф!', 'Ха-а-а! Свежее мясо!', 'Ха-а', 'Ха-ха! Свежее мясо!', 'Ха-ха, бессмертие!', 'Ха', 'Харт оф тараск!', 'Хе-хе хе', 'Хе-хе-хе-хе-хе-хе-хе, свежее мясо!!', 'Хе-хе-хе-хе-хе-хе-хе, свежее мясо!', 'Хе-хе-хе-хе. Свежее мясо.', 'Хе-хе-хе-хе. Свежее мясо', 'Хе-хе-хе-хе', 'Хм-м, попробуй жизнь на вкус!', 'Хорошая заточка.', 'Худ оф Дефайнс!', 'Хы-хы-ха-ха, ты погляди, свежее мясо!', 'Хы-хы-хы-хы, свежее мясо!', 'Хы-хы-хы-хы, у тебя рёбра отвалились!', 'Хэх, хе-хе-хе-хе-хе, не твоё!', 'Чёрт, давно пора!', 'Чёрта... с два.', 'Чёрта... с два', 'Чёртовы крипы.', 'Что протухло', 'Что-то я... проголодался.', 'Шивас Гвардс!', 'Э-э-э.', 'Э-э.', 'Эй!', 'Эй, ты.', 'Эй', 'Это кто зашел на ужин', 'Эх.', 'Я ж ещё... не дорезал.', 'Я специально, честно...', 'Я что-то не то съел']\n",
    "\n",
    "# Text normalization and tokenization\n",
    "\n",
    "tokenizer = Tokenizer(filters='!\"#$%&()*+,-./:;<=>?@[\\\\]^_`{|}~\\t\\n')\n",
    "tokenizer.fit_on_texts(texts)\n",
    "\n",
    "padded_texts = texts_to_padded(texts, tokenizer)\n",
    "\n",
    "# Vocabulary size\n",
    "vocab_size = len(tokenizer.word_index) + 1\n",
    "\n",
    "# Print the preprocessed data\n",
    "#print(\"Normalized Texts:\", normalized_texts)\n",
    "print(\"Padded Texts:\\n\", padded_texts)"
   ]
  },
  {
   "attachments": {},
   "cell_type": "markdown",
   "metadata": {},
   "source": [
    "# Загружаем спектрограмму "
   ]
  },
  {
   "cell_type": "code",
   "execution_count": 4,
   "metadata": {},
   "outputs": [],
   "source": [
    "spectrograms = [np.load(f'./numpy_data/{file_name}') for file_name in sorted(os.listdir('./numpy_data'))]\n",
    "\n",
    "ayst = max([i.shape[1] for i in spectrograms])\n",
    "\n",
    "spectrograms = [norm_spectr(i, ayst) for i in spectrograms]\n",
    "spectrograms=np.array(spectrograms)\n",
    "\n"
   ]
  },
  {
   "attachments": {},
   "cell_type": "markdown",
   "metadata": {},
   "source": [
    "#### Спектрограмму преобразовываем в звук"
   ]
  },
  {
   "cell_type": "code",
   "execution_count": 5,
   "metadata": {},
   "outputs": [],
   "source": [
    "path_for_data = './numpy_data/'\n",
    "\n",
    "\n",
    "\n",
    "spectrogram_to_audio(spectrograms[2])"
   ]
  },
  {
   "attachments": {},
   "cell_type": "markdown",
   "metadata": {},
   "source": [
    "## Создаём нейронную сеть"
   ]
  },
  {
   "cell_type": "code",
   "execution_count": 6,
   "metadata": {},
   "outputs": [
    {
     "data": {
      "text/plain": [
       "<keras.callbacks.History at 0x2952ea82b10>"
      ]
     },
     "execution_count": 6,
     "metadata": {},
     "output_type": "execute_result"
    }
   ],
   "source": [
    "train_data_x, train_data_y = np.array(padded_texts), np.array(spectrograms)\n",
    "output_shape = spectrograms[0].shape\n",
    "model = Sequential()\n",
    "model.add( Dense(30, input_dim=len(padded_texts[0])) )\n",
    "for i in range(4):\n",
    "        model.add( Dense(units=20, activation='LeakyReLU') )\n",
    "model.add( Dense( output_shape[0]*output_shape[1], activation='LeakyReLU' ) )\n",
    "model.add( Reshape(output_shape)  )\n",
    "model.compile(loss='mae', optimizer='adam')\n",
    "model.fit(train_data_x, train_data_y\n",
    "                        , epochs=200\n",
    "                        , batch_size=64\n",
    "                        , verbose=0\n",
    "                        ) \n"
   ]
  },
  {
   "cell_type": "code",
   "execution_count": 9,
   "metadata": {},
   "outputs": [],
   "source": [
    "word = ['А ну сюда!']\n",
    "fraze = texts_to_padded(word, tokenizer)"
   ]
  },
  {
   "cell_type": "code",
   "execution_count": 10,
   "metadata": {},
   "outputs": [
    {
     "name": "stdout",
     "output_type": "stream",
     "text": [
      "1/1 [==============================] - 0s 112ms/step\n"
     ]
    }
   ],
   "source": [
    "fraze_spector = model.predict(fraze)"
   ]
  },
  {
   "cell_type": "code",
   "execution_count": 11,
   "metadata": {},
   "outputs": [
    {
     "ename": "error",
     "evalue": "ushort format requires 0 <= number <= 65535",
     "output_type": "error",
     "traceback": [
      "\u001b[1;31m---------------------------------------------------------------------------\u001b[0m",
      "\u001b[1;31merror\u001b[0m                                     Traceback (most recent call last)",
      "Cell \u001b[1;32mIn[11], line 1\u001b[0m\n\u001b[1;32m----> 1\u001b[0m spectrogram_to_audio(fraze_spector)\n",
      "File \u001b[1;32mc:\\Users\\MateBook\\Documents\\pyt\\void\\function_py.py:55\u001b[0m, in \u001b[0;36mspectrogram_to_audio\u001b[1;34m(mel_spec_db, output_path, output_filename)\u001b[0m\n\u001b[0;32m     52\u001b[0m audio \u001b[39m/\u001b[39m\u001b[39m=\u001b[39m np\u001b[39m.\u001b[39mmax(np\u001b[39m.\u001b[39mabs(audio))\n\u001b[0;32m     54\u001b[0m output_path \u001b[39m=\u001b[39m os\u001b[39m.\u001b[39mpath\u001b[39m.\u001b[39mjoin(output_path, output_filename)\n\u001b[1;32m---> 55\u001b[0m wavfile\u001b[39m.\u001b[39;49mwrite(output_path, \u001b[39m22050\u001b[39;49m, audio)\n",
      "File \u001b[1;32mc:\\Users\\MateBook\\Documents\\pyt\\.conda\\Lib\\site-packages\\scipy\\io\\wavfile.py:797\u001b[0m, in \u001b[0;36mwrite\u001b[1;34m(filename, rate, data)\u001b[0m\n\u001b[0;32m    794\u001b[0m bytes_per_second \u001b[39m=\u001b[39m fs\u001b[39m*\u001b[39m(bit_depth \u001b[39m/\u001b[39m\u001b[39m/\u001b[39m \u001b[39m8\u001b[39m)\u001b[39m*\u001b[39mchannels\n\u001b[0;32m    795\u001b[0m block_align \u001b[39m=\u001b[39m channels \u001b[39m*\u001b[39m (bit_depth \u001b[39m/\u001b[39m\u001b[39m/\u001b[39m \u001b[39m8\u001b[39m)\n\u001b[1;32m--> 797\u001b[0m fmt_chunk_data \u001b[39m=\u001b[39m struct\u001b[39m.\u001b[39;49mpack(\u001b[39m'\u001b[39;49m\u001b[39m<HHIIHH\u001b[39;49m\u001b[39m'\u001b[39;49m, format_tag, channels, fs,\n\u001b[0;32m    798\u001b[0m                              bytes_per_second, block_align, bit_depth)\n\u001b[0;32m    799\u001b[0m \u001b[39mif\u001b[39;00m \u001b[39mnot\u001b[39;00m (dkind \u001b[39m==\u001b[39m \u001b[39m'\u001b[39m\u001b[39mi\u001b[39m\u001b[39m'\u001b[39m \u001b[39mor\u001b[39;00m dkind \u001b[39m==\u001b[39m \u001b[39m'\u001b[39m\u001b[39mu\u001b[39m\u001b[39m'\u001b[39m):\n\u001b[0;32m    800\u001b[0m     \u001b[39m# add cbSize field for non-PCM files\u001b[39;00m\n\u001b[0;32m    801\u001b[0m     fmt_chunk_data \u001b[39m+\u001b[39m\u001b[39m=\u001b[39m \u001b[39mb\u001b[39m\u001b[39m'\u001b[39m\u001b[39m\\x00\u001b[39;00m\u001b[39m\\x00\u001b[39;00m\u001b[39m'\u001b[39m\n",
      "\u001b[1;31merror\u001b[0m: ushort format requires 0 <= number <= 65535"
     ]
    }
   ],
   "source": [
    "spectrogram_to_audio(fraze_spector)"
   ]
  },
  {
   "cell_type": "code",
   "execution_count": null,
   "metadata": {},
   "outputs": [],
   "source": []
  }
 ],
 "metadata": {
  "kernelspec": {
   "display_name": "audio",
   "language": "python",
   "name": "python3"
  },
  "language_info": {
   "codemirror_mode": {
    "name": "ipython",
    "version": 3
   },
   "file_extension": ".py",
   "mimetype": "text/x-python",
   "name": "python",
   "nbconvert_exporter": "python",
   "pygments_lexer": "ipython3",
   "version": "3.11.3"
  },
  "orig_nbformat": 4
 },
 "nbformat": 4,
 "nbformat_minor": 2
}
